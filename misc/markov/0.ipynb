{
 "cells": [
  {
   "cell_type": "code",
   "execution_count": 36,
   "metadata": {},
   "outputs": [
    {
     "name": "stdout",
     "output_type": "stream",
     "text": [
      "[0.75 0.25]\n",
      "[[0.75 0.75]\n",
      " [0.25 0.25]]\n"
     ]
    }
   ],
   "source": [
    "import numpy as np\n",
    "\n",
    "markov = np.array([[0.9, 0.3], [0.1, 0.7]])\n",
    "state = np.array([1.0, 0.0])\n",
    "\n",
    "for i in range(100):\n",
    "    state = np.matmul(markov, state)\n",
    "print(state)\n",
    "\n",
    "markov_n = markov.copy()\n",
    "for i in range(100):\n",
    "    markov_n = np.matmul(markov_n, markov)\n",
    "print(markov_n)"
   ]
  }
 ],
 "metadata": {
  "kernelspec": {
   "display_name": "Python 3",
   "language": "python",
   "name": "python3"
  },
  "language_info": {
   "codemirror_mode": {
    "name": "ipython",
    "version": 3
   },
   "file_extension": ".py",
   "mimetype": "text/x-python",
   "name": "python",
   "nbconvert_exporter": "python",
   "pygments_lexer": "ipython3",
   "version": "3.11.4"
  },
  "orig_nbformat": 4
 },
 "nbformat": 4,
 "nbformat_minor": 2
}
